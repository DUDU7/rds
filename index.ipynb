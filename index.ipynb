{
 "cells": [
  {
   "cell_type": "code",
   "execution_count": 5,
   "metadata": {},
   "outputs": [
    {
     "ename": "ModuleNotFoundError",
     "evalue": "No module named 'pandas'",
     "output_type": "error",
     "traceback": [
      "\u001b[1;31m---------------------------------------------------------------------------\u001b[0m",
      "\u001b[1;31mModuleNotFoundError\u001b[0m                       Traceback (most recent call last)",
      "Cell \u001b[1;32mIn[5], line 1\u001b[0m\n\u001b[1;32m----> 1\u001b[0m \u001b[38;5;28;01mimport\u001b[39;00m \u001b[38;5;21;01mpandas\u001b[39;00m \u001b[38;5;28;01mas\u001b[39;00m \u001b[38;5;21;01mpd\u001b[39;00m\n\u001b[0;32m      2\u001b[0m \u001b[38;5;28;01mimport\u001b[39;00m \u001b[38;5;21;01mmatplotlib\u001b[39;00m\u001b[38;5;21;01m.\u001b[39;00m\u001b[38;5;21;01mpyplot\u001b[39;00m \u001b[38;5;28;01mas\u001b[39;00m \u001b[38;5;21;01mplt\u001b[39;00m\n\u001b[0;32m      4\u001b[0m \u001b[38;5;66;03m# URL do arquivo CSV\u001b[39;00m\n",
      "\u001b[1;31mModuleNotFoundError\u001b[0m: No module named 'pandas'"
     ]
    }
   ],
   "source": [
    "import pandas as pd\n",
    "import matplotlib.pyplot as plt\n",
    "\n",
    "# URL do arquivo CSV\n",
    "url = 'https://raw.githubusercontent.com/wcota/covid19br/master/cases-brazil-cities.csv'\n",
    "\n",
    "# Carregar os dados do CSV a partir da URL\n",
    "df = pd.read_csv(url, sep=',')\n",
    "\n",
    "# Cidade com mais casos de COVID-19\n",
    "cidade_mais_casos = df.loc[df['totalCases'].idxmax()]['city']\n",
    "print(f\"Cidade com mais casos de COVID-19: {cidade_mais_casos}\")\n",
    "\n",
    "# Cidade com menos casos de COVID-19\n",
    "cidade_menos_casos = df.loc[df['totalCases'].idxmin()]['city']\n",
    "print(f\"Cidade com menos casos de COVID-19: {cidade_menos_casos}\")\n",
    "\n",
    "# Estado com mais casos de COVID-19\n",
    "estado_mais_casos = df.groupby('state')['totalCases'].sum().idxmax()\n",
    "print(f\"Estado com mais casos de COVID-19: {estado_mais_casos}\")\n",
    "\n",
    "# Estado com menos casos de COVID-19\n",
    "estado_menos_casos = df.groupby('state')['totalCases'].sum().idxmin()\n",
    "print(f\"Estado com menos casos de COVID-19: {estado_menos_casos}\")\n",
    "\n",
    "# Cidade com mais mortes por COVID-19\n",
    "cidade_mais_mortes = df.loc[df['deaths'].idxmax()]['city']\n",
    "print(f\"Cidade com mais mortes por COVID-19: {cidade_mais_mortes}\")\n",
    "\n",
    "# Cidade com menos mortes por COVID-19\n",
    "cidade_menos_mortes = df.loc[df['deaths'].idxmin()]['city']\n",
    "print(f\"Cidade com menos mortes por COVID-19: {cidade_menos_mortes}\")\n",
    "\n",
    "# Estado com mais mortes por COVID-19\n",
    "estado_mais_mortes = df.groupby('state')['deaths'].sum().idxmax()\n",
    "print(f\"Estado com mais mortes por COVID-19: {estado_mais_mortes}\")\n",
    "\n",
    "# Estado com menos mortes por COVID-19\n",
    "estado_menos_mortes = df.groupby('state')['deaths'].sum().idxmin()\n",
    "print(f\"Estado com menos mortes por COVID-19: {estado_menos_mortes}\")\n",
    "\n",
    "# Total de casos de COVID-19 no Brasil\n",
    "total_casos = df['totalCases'].sum()\n",
    "print(f\"Total de casos de COVID-19 no Brasil: {total_casos}\")\n",
    "\n",
    "# Total de mortes por COVID-19 no Brasil\n",
    "total_mortes = df['deaths'].sum()\n",
    "print(f\"Total de mortes por COVID-19 no Brasil: {total_mortes}\")\n",
    "\n",
    "# Gráfico Barplot com 5 estados com mais mortes\n",
    "top_5_estados_mortes = df.groupby('state')['deaths'].sum().nlargest(5)\n",
    "top_5_estados_mortes.plot(kind='bar')\n",
    "plt.title('Top 5 Estados com Mais Mortes por COVID-19')\n",
    "plt.xlabel('Estado')\n",
    "plt.ylabel('Número de Mortes')\n",
    "plt.show()\n",
    "\n",
    "# Gráfico Barplot com 5 estados com menos mortes\n",
    "bottom_5_estados_mortes = df.groupby('state')['deaths'].sum().nsmallest(5)\n",
    "bottom_5_estados_mortes.plot(kind='bar')\n",
    "plt.title('Top 5 Estados com Menos Mortes por COVID-19')\n",
    "plt.xlabel('Estado')\n",
    "plt.ylabel('Número de Mortes')\n",
    "plt.show()"
   ]
  }
 ],
 "metadata": {
  "kernelspec": {
   "display_name": "Python 3",
   "language": "python",
   "name": "python3"
  },
  "language_info": {
   "codemirror_mode": {
    "name": "ipython",
    "version": 3
   },
   "file_extension": ".py",
   "mimetype": "text/x-python",
   "name": "python",
   "nbconvert_exporter": "python",
   "pygments_lexer": "ipython3",
   "version": "3.13.0"
  }
 },
 "nbformat": 4,
 "nbformat_minor": 2
}
